{
 "cells": [
  {
   "cell_type": "markdown",
   "metadata": {},
   "source": [
    "# Deploying trained model which is saved on S3  "
   ]
  },
  {
   "cell_type": "code",
   "execution_count": 1,
   "metadata": {},
   "outputs": [
    {
     "name": "stdout",
     "output_type": "stream",
     "text": [
      "Requirement already satisfied: sagemaker in /usr/local/lib/python3.8/site-packages (2.93.0)\n",
      "Requirement already satisfied: attrs==20.3.0 in /usr/local/lib/python3.8/site-packages (from sagemaker) (20.3.0)\n",
      "Requirement already satisfied: protobuf<4.0,>=3.1 in /usr/local/lib/python3.8/site-packages (from sagemaker) (3.19.1)\n",
      "Requirement already satisfied: numpy<2.0,>=1.9.0 in /usr/local/lib/python3.8/site-packages (from sagemaker) (1.19.5)\n",
      "Requirement already satisfied: protobuf3-to-dict<1.0,>=0.1.5 in /usr/local/lib/python3.8/site-packages (from sagemaker) (0.1.5)\n",
      "Requirement already satisfied: packaging>=20.0 in /usr/local/lib/python3.8/site-packages (from sagemaker) (21.3)\n",
      "Requirement already satisfied: pathos in /usr/local/lib/python3.8/site-packages (from sagemaker) (0.2.8)\n",
      "Requirement already satisfied: pandas in /usr/local/lib/python3.8/site-packages (from sagemaker) (1.2.5)\n",
      "Requirement already satisfied: importlib-metadata<5.0,>=1.4.0 in /usr/local/lib/python3.8/site-packages (from sagemaker) (4.8.2)\n",
      "Requirement already satisfied: smdebug-rulesconfig==1.0.1 in /usr/local/lib/python3.8/site-packages (from sagemaker) (1.0.1)\n",
      "Requirement already satisfied: boto3<2.0,>=1.20.21 in /usr/local/lib/python3.8/site-packages (from sagemaker) (1.20.22)\n",
      "Requirement already satisfied: google-pasta in /usr/local/lib/python3.8/site-packages (from sagemaker) (0.2.0)\n",
      "Requirement already satisfied: s3transfer<0.6.0,>=0.5.0 in /usr/local/lib/python3.8/site-packages (from boto3<2.0,>=1.20.21->sagemaker) (0.5.0)\n",
      "Requirement already satisfied: jmespath<1.0.0,>=0.7.1 in /usr/local/lib/python3.8/site-packages (from boto3<2.0,>=1.20.21->sagemaker) (0.10.0)\n",
      "Requirement already satisfied: botocore<1.24.0,>=1.23.22 in /usr/local/lib/python3.8/site-packages (from boto3<2.0,>=1.20.21->sagemaker) (1.23.22)\n",
      "Requirement already satisfied: zipp>=0.5 in /usr/local/lib/python3.8/site-packages (from importlib-metadata<5.0,>=1.4.0->sagemaker) (3.6.0)\n",
      "Requirement already satisfied: pyparsing!=3.0.5,>=2.0.2 in /usr/local/lib/python3.8/site-packages (from packaging>=20.0->sagemaker) (3.0.6)\n",
      "Requirement already satisfied: six in /usr/local/lib/python3.8/site-packages (from protobuf3-to-dict<1.0,>=0.1.5->sagemaker) (1.16.0)\n",
      "Requirement already satisfied: python-dateutil>=2.7.3 in /usr/local/lib/python3.8/site-packages (from pandas->sagemaker) (2.8.2)\n",
      "Requirement already satisfied: pytz>=2017.3 in /usr/local/lib/python3.8/site-packages (from pandas->sagemaker) (2021.3)\n",
      "Requirement already satisfied: ppft>=1.6.6.4 in /usr/local/lib/python3.8/site-packages (from pathos->sagemaker) (1.6.6.4)\n",
      "Requirement already satisfied: dill>=0.3.4 in /usr/local/lib/python3.8/site-packages (from pathos->sagemaker) (0.3.4)\n",
      "Requirement already satisfied: multiprocess>=0.70.12 in /usr/local/lib/python3.8/site-packages (from pathos->sagemaker) (0.70.12.2)\n",
      "Requirement already satisfied: pox>=0.3.0 in /usr/local/lib/python3.8/site-packages (from pathos->sagemaker) (0.3.0)\n",
      "Requirement already satisfied: urllib3<1.27,>=1.25.4 in /usr/local/lib/python3.8/site-packages (from botocore<1.24.0,>=1.23.22->boto3<2.0,>=1.20.21->sagemaker) (1.25.11)\n",
      "\u001b[33mWARNING: Running pip as the 'root' user can result in broken permissions and conflicting behaviour with the system package manager. It is recommended to use a virtual environment instead: https://pip.pypa.io/warnings/venv\u001b[0m\n",
      "\u001b[33mWARNING: You are using pip version 21.3.1; however, version 22.1.1 is available.\n",
      "You should consider upgrading via the '/usr/local/bin/python3.8 -m pip install --upgrade pip' command.\u001b[0m\n"
     ]
    }
   ],
   "source": [
    "! pip install -U sagemaker"
   ]
  },
  {
   "cell_type": "code",
   "execution_count": 2,
   "metadata": {},
   "outputs": [],
   "source": [
    "import boto3\n",
    "import sagemaker\n",
    "from sagemaker import get_execution_role\n",
    "\n",
    "region = boto3.session.Session().region_name\n",
    "role = get_execution_role()\n",
    "\n",
    "# Create a low-level SageMaker service client.\n",
    "sagemaker_client = boto3.client('sagemaker', region_name=region)\n"
   ]
  },
  {
   "cell_type": "code",
   "execution_count": 3,
   "metadata": {},
   "outputs": [],
   "source": [
    "import argparse\n",
    "import os\n",
    "import warnings\n",
    "\n",
    "import pandas as pd\n",
    "import pathlib\n",
    "import numpy as np\n",
    "import tensorflow as tf\n",
    "\n",
    "from tensorflow.keras import layers\n",
    "from tensorflow.keras import models\n",
    "from IPython import display\n",
    "\n",
    "\n"
   ]
  },
  {
   "cell_type": "markdown",
   "metadata": {},
   "source": [
    "# Model path and creating estimator "
   ]
  },
  {
   "cell_type": "code",
   "execution_count": 4,
   "metadata": {},
   "outputs": [],
   "source": [
    "from sagemaker.tensorflow.model import TensorFlowModel\n",
    "\n",
    "model_path = \"s3://sagemaker-studio-062044820001-7qbctb3w94p/Training/models/1/tensorflow-training-2022-06-02-23-05-08-776/output/model.tar.gz\"\n",
    "model = TensorFlowModel(model_data=model_path, role=role, framework_version=\"2.6\")"
   ]
  },
  {
   "cell_type": "markdown",
   "metadata": {},
   "source": [
    "# Model Deployment"
   ]
  },
  {
   "cell_type": "code",
   "execution_count": 15,
   "metadata": {},
   "outputs": [
    {
     "name": "stderr",
     "output_type": "stream",
     "text": [
      "update_endpoint is a no-op in sagemaker>=2.\n",
      "See: https://sagemaker.readthedocs.io/en/stable/v2.html for details.\n"
     ]
    },
    {
     "name": "stdout",
     "output_type": "stream",
     "text": [
      "--------!"
     ]
    }
   ],
   "source": [
    "instance_type = \"ml.t2.medium\"\n",
    "\n",
    "predictor = model.deploy(\n",
    "    initial_instance_count=1,\n",
    "    instance_type=instance_type,\n",
    ")"
   ]
  },
  {
   "cell_type": "code",
   "execution_count": 6,
   "metadata": {},
   "outputs": [],
   "source": [
    "features_loc = \"pre-processed data/\"\n",
    "\n",
    "test_ds = tf.data.experimental.load(features_loc + \"test/\")"
   ]
  },
  {
   "cell_type": "code",
   "execution_count": 7,
   "metadata": {},
   "outputs": [
    {
     "data": {
      "text/plain": [
       "array(0)"
      ]
     },
     "execution_count": 7,
     "metadata": {},
     "output_type": "execute_result"
    }
   ],
   "source": [
    "sample = []\n",
    "labels = []\n",
    "for spectrogram, label in test_ds:\n",
    "      sample = spectrogram\n",
    "      labels = label\n",
    "        \n",
    "\n",
    "sample = tf.expand_dims(sample,0)\n",
    "result = predictor.predict(np.array(sample))\n",
    "labels = np.array(labels)\n",
    "labels"
   ]
  },
  {
   "cell_type": "code",
   "execution_count": 8,
   "metadata": {},
   "outputs": [],
   "source": [
    "test_audio = []\n",
    "test_labels = []\n",
    "\n",
    "for audio, label in test_ds:\n",
    "  test_audio.append(audio.numpy())\n",
    "  test_labels.append(label.numpy())\n",
    "\n",
    "\n",
    "result = predictor.predict(np.array(test_audio))\n"
   ]
  },
  {
   "cell_type": "code",
   "execution_count": 9,
   "metadata": {
    "collapsed": true,
    "jupyter": {
     "outputs_hidden": true
    }
   },
   "outputs": [
    {
     "data": {
      "text/plain": [
       "{'predictions': [[1.00240016, -0.751947463],\n",
       "  [1.50245214, 0.957009315],\n",
       "  [-0.341899037, 0.535389543],\n",
       "  [-3.8799808, 4.34518766],\n",
       "  [0.424371302, -0.181929886],\n",
       "  [-5.38188648, 5.07740498],\n",
       "  [0.11206419, 0.0452605113],\n",
       "  [0.536811054, -0.609241247],\n",
       "  [3.29732704, -4.23928928],\n",
       "  [2.85538745, -1.70956445],\n",
       "  [-1.23554015, 1.07647276],\n",
       "  [-3.28618741, 3.45127535],\n",
       "  [-23.3575897, 22.2575169],\n",
       "  [0.0505780801, -0.0083726719],\n",
       "  [0.381298602, -0.0152498558],\n",
       "  [-0.952332, 0.225670785],\n",
       "  [1.61861801, -1.18078506],\n",
       "  [2.78406239, -2.23948932],\n",
       "  [1.05328834, -0.388755202],\n",
       "  [1.79230106, -0.215860695],\n",
       "  [-0.306556165, 0.501138568],\n",
       "  [-1.36916041, 1.53293729],\n",
       "  [1.48108208, -1.4128406],\n",
       "  [0.706999302, -0.0595934615],\n",
       "  [0.87271297, -1.05297232],\n",
       "  [1.83780491, -1.49312472],\n",
       "  [-3.4733789, 3.72256064],\n",
       "  [1.06866038, -0.999919593],\n",
       "  [-9.2781477, 8.54385567],\n",
       "  [-0.0929806903, 0.334278703],\n",
       "  [-3.91688776, 4.05431032],\n",
       "  [1.17078006, -1.3455199],\n",
       "  [0.00892151, -0.289775342],\n",
       "  [1.21023524, -1.33736467],\n",
       "  [-1.87644374, 1.92019415],\n",
       "  [-0.528304458, 0.917043865],\n",
       "  [1.952281, -2.05486274],\n",
       "  [5.60509539, -4.4714036],\n",
       "  [1.85625648, -1.46494603],\n",
       "  [0.0017139148, 0.0567169711],\n",
       "  [0.637806475, -0.606975257],\n",
       "  [0.504431725, -0.0304656848],\n",
       "  [-0.319887161, 0.465685666],\n",
       "  [1.56618917, -0.957167804],\n",
       "  [-0.898600161, 0.654907763],\n",
       "  [0.808915555, -0.962987959],\n",
       "  [-1.03370726, 1.25815904],\n",
       "  [-1.35673416, 0.619701087],\n",
       "  [-2.73589849, 3.2873714],\n",
       "  [-19.5300541, 28.1739178],\n",
       "  [-2.25856376, 2.49267912],\n",
       "  [-0.259153843, 0.411598146],\n",
       "  [-3.23365498, 3.28573823],\n",
       "  [-5.55707836, 4.41606236],\n",
       "  [2.66473055, -2.65016],\n",
       "  [2.01794, 0.0176276192],\n",
       "  [0.597914755, -0.336260617],\n",
       "  [-4.55175781, 4.14823675],\n",
       "  [-1.75883579, 1.72815871],\n",
       "  [-9.72988796, 10.312604],\n",
       "  [1.79875708, -1.08397651],\n",
       "  [0.917509675, -1.38391495],\n",
       "  [-1.05737114, 0.886541],\n",
       "  [-1.00032067, 1.22594249],\n",
       "  [2.00425768, -1.44913054],\n",
       "  [-5.22841835, 4.92916346],\n",
       "  [-11.527379, 11.3589602],\n",
       "  [-0.062800236, 0.00455764681],\n",
       "  [1.35213256, -1.03762853],\n",
       "  [-6.49673271, 6.04420805],\n",
       "  [-0.105266243, 0.186213344],\n",
       "  [-1.56961679, 2.01860666],\n",
       "  [0.344397694, -0.145033032],\n",
       "  [-13.09863, 13.3543968],\n",
       "  [-7.07892, 6.50192356],\n",
       "  [0.436084509, -0.354275882],\n",
       "  [0.954247415, -0.666166365],\n",
       "  [1.44782245, -0.865421116],\n",
       "  [-0.467087358, 1.94715631],\n",
       "  [0.026775999, 0.124134429],\n",
       "  [-0.0464820117, 0.1475012],\n",
       "  [0.989386499, -0.964660585],\n",
       "  [-1.30315351, 1.14337969],\n",
       "  [-0.785837054, 0.677365303],\n",
       "  [-0.207383841, 0.401552141],\n",
       "  [-0.128570586, 0.325731099],\n",
       "  [0.228352517, -0.367011219],\n",
       "  [0.703433394, -0.673618197],\n",
       "  [0.920686901, -0.805874228],\n",
       "  [2.64506483, -2.91547632],\n",
       "  [0.281009704, -0.0595347285],\n",
       "  [2.83095074, -2.23793888],\n",
       "  [-2.2299726, 2.30656767],\n",
       "  [-2.13234401, 2.1005137],\n",
       "  [0.780965328, -0.267964453],\n",
       "  [0.33886838, 0.54094553],\n",
       "  [-2.36828899, 2.32953906],\n",
       "  [-0.159170896, 0.330782354],\n",
       "  [2.90257764, -1.98739815],\n",
       "  [0.618710458, -0.605919],\n",
       "  [0.210467115, -0.0919838175],\n",
       "  [1.17232418, -0.761704385],\n",
       "  [-0.169782206, 0.381367207],\n",
       "  [-0.854558647, 1.00362921],\n",
       "  [-6.09621048, 6.11527109],\n",
       "  [2.95832086, -3.68501353],\n",
       "  [-10.6794939, 11.1032066],\n",
       "  [0.403234065, -0.120302267],\n",
       "  [-3.80221224, 3.33699036],\n",
       "  [-0.404144049, 0.448421329],\n",
       "  [1.61912036, -2.68440509],\n",
       "  [0.23246944, -0.0590385869],\n",
       "  [-2.42943525, 2.4816637],\n",
       "  [-3.49117684, 3.8156693],\n",
       "  [-3.98687506, 1.51964688],\n",
       "  [-7.3835187, 6.84239531],\n",
       "  [4.42254782, -3.04287338],\n",
       "  [-1.48494387, 1.8766706],\n",
       "  [-11.5288343, 11.6191168],\n",
       "  [-1.52813315, 2.63259935],\n",
       "  [-3.26226425, 3.19241238],\n",
       "  [1.40331089, -1.12864828],\n",
       "  [0.139187843, -0.127429515],\n",
       "  [-5.00844812, 4.00366306],\n",
       "  [1.19072986, -1.03869462],\n",
       "  [1.06301868, -1.58853936],\n",
       "  [-4.65085936, 4.8891921],\n",
       "  [1.26819181, -1.46676719],\n",
       "  [-0.60339433, 0.132774144],\n",
       "  [0.703482866, -1.14890468],\n",
       "  [1.35881495, -0.453580976],\n",
       "  [-1.54365456, 1.23949826],\n",
       "  [-0.230986655, 2.50685072],\n",
       "  [-1.24044466, 1.81121039],\n",
       "  [0.236710906, 0.148441851],\n",
       "  [-0.158399761, 0.323291421],\n",
       "  [0.932862, -0.668610394],\n",
       "  [-1.04777467, 1.2349267],\n",
       "  [3.47948, -1.69162083],\n",
       "  [0.626387119, -0.598085582],\n",
       "  [1.32285845, -0.926894844],\n",
       "  [-0.0997552872, 0.274019271],\n",
       "  [0.785342634, 0.265176624],\n",
       "  [-0.497230828, 0.950674117],\n",
       "  [-0.787502766, -0.237888575],\n",
       "  [0.712430775, -1.11370659],\n",
       "  [0.187025398, 2.0978291],\n",
       "  [-8.24629402, 7.77704],\n",
       "  [0.923774183, -0.687377393],\n",
       "  [-32.1168938, 31.5392323],\n",
       "  [0.48891139, -1.04117596],\n",
       "  [-1.32280779, 1.17220569],\n",
       "  [-3.83340073, 3.89785266],\n",
       "  [-0.0868957, 0.223620176],\n",
       "  [-6.16524649, 5.7713995],\n",
       "  [2.20731091, -1.59958017],\n",
       "  [3.77116466, -3.51288319],\n",
       "  [-0.275985211, 0.463314593],\n",
       "  [-0.269210964, 0.449132472],\n",
       "  [-3.80312538, 3.97064376],\n",
       "  [-2.78784895, 4.27310562],\n",
       "  [0.808087289, -0.890361428],\n",
       "  [-4.19947577, 3.37435555],\n",
       "  [2.58454823, -1.9190979],\n",
       "  [0.396870345, -0.649983704],\n",
       "  [0.829567909, -0.60777837],\n",
       "  [-1.08690822, 0.421974063],\n",
       "  [-2.72680306, 2.24648142],\n",
       "  [0.491869807, -0.26389721],\n",
       "  [2.97369242, -0.20319587],\n",
       "  [-0.944842339, -1.59618664],\n",
       "  [1.05202377, -0.680841744],\n",
       "  [2.33092403, -1.24470639],\n",
       "  [0.353541791, -0.1151504],\n",
       "  [1.83238125, -2.26183486],\n",
       "  [0.0244650226, -0.0895355865],\n",
       "  [0.498036265, -0.470253289],\n",
       "  [-2.08549118, 2.17577291],\n",
       "  [-0.738606751, 1.07588601],\n",
       "  [-2.02476597, 2.02771735],\n",
       "  [0.899239, -0.747263372],\n",
       "  [2.93103266, -2.3140955],\n",
       "  [-1.43712652, 1.29442108],\n",
       "  [1.03434753, -0.72606045],\n",
       "  [-2.84767795, 2.59628582],\n",
       "  [-2.37706828, 2.32744288],\n",
       "  [0.52445513, -0.300204456],\n",
       "  [0.143563062, 0.0249232277],\n",
       "  [-4.84795618, 4.9238534],\n",
       "  [-1.94081903, 2.35983706],\n",
       "  [-3.51813841, 3.44839835],\n",
       "  [-4.0773325, 4.43757153],\n",
       "  [1.46705961, 0.0836253688],\n",
       "  [0.743169367, 0.340457499],\n",
       "  [-2.77306795, 2.98782682],\n",
       "  [0.614394, -0.663755894],\n",
       "  [1.61574018, -1.61374903],\n",
       "  [-0.0590371192, 0.144020826],\n",
       "  [1.00127625, -1.00694072],\n",
       "  [-0.232292622, 0.454642922]]}"
      ]
     },
     "execution_count": 9,
     "metadata": {},
     "output_type": "execute_result"
    }
   ],
   "source": [
    "result"
   ]
  },
  {
   "cell_type": "code",
   "execution_count": 16,
   "metadata": {},
   "outputs": [
    {
     "data": {
      "text/plain": [
       "{'ResponseMetadata': {'RequestId': '3b4220e2-b444-460f-a6e6-9363fb811e5c',\n",
       "  'HTTPStatusCode': 200,\n",
       "  'HTTPHeaders': {'x-amzn-requestid': '3b4220e2-b444-460f-a6e6-9363fb811e5c',\n",
       "   'content-type': 'application/x-amz-json-1.1',\n",
       "   'content-length': '0',\n",
       "   'date': 'Fri, 03 Jun 2022 09:31:10 GMT'},\n",
       "  'RetryAttempts': 0}}"
      ]
     },
     "execution_count": 16,
     "metadata": {},
     "output_type": "execute_result"
    }
   ],
   "source": [
    "# Delete endpoint\n",
    "sagemaker_client.delete_endpoint(EndpointName=predictor.endpoint_name)"
   ]
  },
  {
   "cell_type": "code",
   "execution_count": null,
   "metadata": {},
   "outputs": [],
   "source": []
  }
 ],
 "metadata": {
  "instance_type": "ml.t3.medium",
  "kernelspec": {
   "display_name": "Python 3 (TensorFlow 2.6 Python 3.8 CPU Optimized)",
   "language": "python",
   "name": "python3__SAGEMAKER_INTERNAL__arn:aws:sagemaker:us-east-1:081325390199:image/tensorflow-2.6-cpu-py38-ubuntu20.04-v1"
  },
  "language_info": {
   "codemirror_mode": {
    "name": "ipython",
    "version": 3
   },
   "file_extension": ".py",
   "mimetype": "text/x-python",
   "name": "python",
   "nbconvert_exporter": "python",
   "pygments_lexer": "ipython3",
   "version": "3.8.2"
  }
 },
 "nbformat": 4,
 "nbformat_minor": 4
}
